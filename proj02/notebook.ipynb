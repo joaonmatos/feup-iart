{
 "cells": [
  {
   "cell_type": "markdown",
   "metadata": {},
   "source": [
    "Deve ser analisado o processo de aprendizagem ao longo do tempo e construídos gráficos da recompensa obtida ao longo do tempo e de outros parâmetros do processode aprendizagem."
   ]
  },
  {
   "cell_type": "markdown",
   "metadata": {},
   "source": [
    "# Reinforcement Learning"
   ]
  },
  {
   "cell_type": "markdown",
   "metadata": {},
   "source": [
    "This notebook aims to ..."
   ]
  },
  {
   "cell_type": "markdown",
   "metadata": {},
   "source": [
    "### Authors and Affiliation\n",
    " * Bernardo Santos - up201706534\n",
    " * João Matos - up201705471\n",
    " * Vítor Gonçalves - up201703917"
   ]
  },
  {
   "cell_type": "markdown",
   "metadata": {},
   "source": [
    "## Introduction\n",
    "\n"
   ]
  },
  {
   "cell_type": "markdown",
   "metadata": {},
   "source": [
    "## Description of the problem\n",
    "\n",
    "### Eximo\n",
    "Eximo is a member of the Checkers family designed on 1 February 2013.\n",
    "\n",
    "<img src=\"assets/board.png\" width=\"300px\" alt=\"Eximo Board\" />\n",
    "\n",
    "#### Goal\n",
    "In order to win a game of Eximo the player must achieve one of two goals:\n",
    " * capture all of the opponent's pieces\n",
    " * stalemate the opponent, so that he has no moves left\n",
    " \n",
    "#### Player Actions\n",
    "To achieve the above goals, the player has a set of 4 different types of actions.\n",
    "\n",
    "##### Move\n",
    "A piece is able to move forward and diagonaly forward into an adjacent empty square. Possible moves are represented in the image below with green dots.\n",
    "<img src=\"assets/move.png\" width=\"200px\" alt=\"Ordinary Move\" />\n",
    "\n",
    "##### Jump\n",
    "Jump over an adjacent friendly piece (in the same three directions as an ordinary move) if the next square in the same direction is empty, placing the piece on the empty square. If the same player’s piece can continue moving by jumping another friendly piece, then it must do so (Figure 4). During the jumping move that piece cannot capture enemy pieces. Possible jumps are represented in the image below with green dots.\n",
    "<img src=\"assets/jump.png\" width=\"200px\" alt=\"Jump Move\" />\n",
    "\n",
    "##### Capture\n",
    "A piece is able to jump over a (forward, diagonally forward, right or left) adjacent enemy’s piece if the next square in the same direction is empty, placing the piece on that same square and removing the opponent’s piece from the board. If the piece can continue capturing, then it must do so (capturing is mandatory, and the player must keep capturing as long as possible). Possible jumps are represented in the image below with green dots.\n",
    "<img src=\"assets/capture.png\" width=\"200px\" alt=\"Capture Move\" />\n",
    "\n",
    "##### Place\n",
    "When a piece reaches the opponent's end of the board, that same piece is removed and the player may place two pieces on their dropzone (represented in the image below). If there are no empty cells the player does not have the opportunity to place any pieces and the game continues. If there is only one empty cell then the player can place the piece in that cell.\n",
    "<img src=\"assets/place.png\" width=\"300px\" alt=\"Dropzones\" />\n",
    "\n"
   ]
  },
  {
   "cell_type": "markdown",
   "metadata": {},
   "source": [
    "## Approach\n",
    "\n",
    "Since we had already implemented the game logic in the last assignment, we had to adapt our implementation to work flawlessly with the OpenAi Gym toolkit.\n",
    "\n",
    "We came to the conclusion that our action space is finite and as such we used the Discrete space provided by OpenAI\n"
   ]
  },
  {
   "cell_type": "markdown",
   "metadata": {},
   "source": [
    "## Experimental Evaluation\n",
    "in which you should include any plots and tables with your results"
   ]
  },
  {
   "cell_type": "markdown",
   "metadata": {},
   "source": [
    "### Deep Q Learning"
   ]
  },
  {
   "cell_type": "code",
   "execution_count": 4,
   "metadata": {
    "scrolled": false
   },
   "outputs": [
    {
     "data": {
      "image/png": "[encoded data removed]",
      "text/plain": [
       "<Figure size 432x288 with 1 Axes>"
      ]
     },
     "metadata": {
      "needs_background": "light"
     },
     "output_type": "display_data"
    }
   ],
   "source": [
    "from utils.utils import cum_plot\n",
    "cum_plot('./models/deepq_v1/', 'Deep Q Learning')"
   ]
  },
  {
   "cell_type": "code",
   "execution_count": 12,
   "metadata": {},
   "outputs": [
    {
     "ename": "LoadMonitorResultsError",
     "evalue": "no monitor files of the form *monitor.csv found in m",
     "output_type": "error",
     "traceback": [
      "\u001b[0;31m---------------------------------------------------------------------------\u001b[0m",
      "\u001b[0;31mLoadMonitorResultsError\u001b[0m                   Traceback (most recent call last)",
      "\u001b[0;32m<ipython-input-12-1f72251d7981>\u001b[0m in \u001b[0;36m<module>\u001b[0;34m\u001b[0m\n\u001b[1;32m      1\u001b[0m \u001b[0;32mfrom\u001b[0m \u001b[0mstable_baselines\u001b[0m \u001b[0;32mimport\u001b[0m \u001b[0mresults_plotter\u001b[0m\u001b[0;34m\u001b[0m\u001b[0;34m\u001b[0m\u001b[0m\n\u001b[1;32m      2\u001b[0m \u001b[0mget_ipython\u001b[0m\u001b[0;34m(\u001b[0m\u001b[0;34m)\u001b[0m\u001b[0;34m.\u001b[0m\u001b[0mrun_line_magic\u001b[0m\u001b[0;34m(\u001b[0m\u001b[0;34m'matplotlib'\u001b[0m\u001b[0;34m,\u001b[0m \u001b[0;34m'inline'\u001b[0m\u001b[0;34m)\u001b[0m\u001b[0;34m\u001b[0m\u001b[0;34m\u001b[0m\u001b[0m\n\u001b[0;32m----> 3\u001b[0;31m \u001b[0mresults_plotter\u001b[0m\u001b[0;34m.\u001b[0m\u001b[0mplot_results\u001b[0m\u001b[0;34m(\u001b[0m\u001b[0;34m\"models/deepq_v1\"\u001b[0m\u001b[0;34m,\u001b[0m \u001b[0;36m10e6\u001b[0m\u001b[0;34m,\u001b[0m \u001b[0mresults_plotter\u001b[0m\u001b[0;34m.\u001b[0m\u001b[0mX_TIMESTEPS\u001b[0m\u001b[0;34m,\u001b[0m \u001b[0;34m\"Breakout\"\u001b[0m\u001b[0;34m)\u001b[0m\u001b[0;34m\u001b[0m\u001b[0;34m\u001b[0m\u001b[0m\n\u001b[0m",
      "\u001b[0;32m~/anaconda3/lib/python3.7/site-packages/stable_baselines/results_plotter.py\u001b[0m in \u001b[0;36mplot_results\u001b[0;34m(dirs, num_timesteps, xaxis, task_name)\u001b[0m\n\u001b[1;32m    110\u001b[0m     \u001b[0mtslist\u001b[0m \u001b[0;34m=\u001b[0m \u001b[0;34m[\u001b[0m\u001b[0;34m]\u001b[0m\u001b[0;34m\u001b[0m\u001b[0;34m\u001b[0m\u001b[0m\n\u001b[1;32m    111\u001b[0m     \u001b[0;32mfor\u001b[0m \u001b[0mfolder\u001b[0m \u001b[0;32min\u001b[0m \u001b[0mdirs\u001b[0m\u001b[0;34m:\u001b[0m\u001b[0;34m\u001b[0m\u001b[0;34m\u001b[0m\u001b[0m\n\u001b[0;32m--> 112\u001b[0;31m         \u001b[0mtimesteps\u001b[0m \u001b[0;34m=\u001b[0m \u001b[0mload_results\u001b[0m\u001b[0;34m(\u001b[0m\u001b[0mfolder\u001b[0m\u001b[0;34m)\u001b[0m\u001b[0;34m\u001b[0m\u001b[0;34m\u001b[0m\u001b[0m\n\u001b[0m\u001b[1;32m    113\u001b[0m         \u001b[0;32mif\u001b[0m \u001b[0mnum_timesteps\u001b[0m \u001b[0;32mis\u001b[0m \u001b[0;32mnot\u001b[0m \u001b[0;32mNone\u001b[0m\u001b[0;34m:\u001b[0m\u001b[0;34m\u001b[0m\u001b[0;34m\u001b[0m\u001b[0m\n\u001b[1;32m    114\u001b[0m             \u001b[0mtimesteps\u001b[0m \u001b[0;34m=\u001b[0m \u001b[0mtimesteps\u001b[0m\u001b[0;34m[\u001b[0m\u001b[0mtimesteps\u001b[0m\u001b[0;34m.\u001b[0m\u001b[0ml\u001b[0m\u001b[0;34m.\u001b[0m\u001b[0mcumsum\u001b[0m\u001b[0;34m(\u001b[0m\u001b[0;34m)\u001b[0m \u001b[0;34m<=\u001b[0m \u001b[0mnum_timesteps\u001b[0m\u001b[0;34m]\u001b[0m\u001b[0;34m\u001b[0m\u001b[0;34m\u001b[0m\u001b[0m\n",
      "\u001b[0;32m~/anaconda3/lib/python3.7/site-packages/stable_baselines/bench/monitor.py\u001b[0m in \u001b[0;36mload_results\u001b[0;34m(path)\u001b[0m\n\u001b[1;32m    177\u001b[0m     \u001b[0mmonitor_files\u001b[0m \u001b[0;34m=\u001b[0m \u001b[0;34m(\u001b[0m\u001b[0mglob\u001b[0m\u001b[0;34m(\u001b[0m\u001b[0mos\u001b[0m\u001b[0;34m.\u001b[0m\u001b[0mpath\u001b[0m\u001b[0;34m.\u001b[0m\u001b[0mjoin\u001b[0m\u001b[0;34m(\u001b[0m\u001b[0mpath\u001b[0m\u001b[0;34m,\u001b[0m \u001b[0;34m\"*monitor.json\"\u001b[0m\u001b[0;34m)\u001b[0m\u001b[0;34m)\u001b[0m \u001b[0;34m+\u001b[0m \u001b[0mget_monitor_files\u001b[0m\u001b[0;34m(\u001b[0m\u001b[0mpath\u001b[0m\u001b[0;34m)\u001b[0m\u001b[0;34m)\u001b[0m\u001b[0;34m\u001b[0m\u001b[0;34m\u001b[0m\u001b[0m\n\u001b[1;32m    178\u001b[0m     \u001b[0;32mif\u001b[0m \u001b[0;32mnot\u001b[0m \u001b[0mmonitor_files\u001b[0m\u001b[0;34m:\u001b[0m\u001b[0;34m\u001b[0m\u001b[0;34m\u001b[0m\u001b[0m\n\u001b[0;32m--> 179\u001b[0;31m         \u001b[0;32mraise\u001b[0m \u001b[0mLoadMonitorResultsError\u001b[0m\u001b[0;34m(\u001b[0m\u001b[0;34m\"no monitor files of the form *%s found in %s\"\u001b[0m \u001b[0;34m%\u001b[0m \u001b[0;34m(\u001b[0m\u001b[0mMonitor\u001b[0m\u001b[0;34m.\u001b[0m\u001b[0mEXT\u001b[0m\u001b[0;34m,\u001b[0m \u001b[0mpath\u001b[0m\u001b[0;34m)\u001b[0m\u001b[0;34m)\u001b[0m\u001b[0;34m\u001b[0m\u001b[0;34m\u001b[0m\u001b[0m\n\u001b[0m\u001b[1;32m    180\u001b[0m     \u001b[0mdata_frames\u001b[0m \u001b[0;34m=\u001b[0m \u001b[0;34m[\u001b[0m\u001b[0;34m]\u001b[0m\u001b[0;34m\u001b[0m\u001b[0;34m\u001b[0m\u001b[0m\n\u001b[1;32m    181\u001b[0m     \u001b[0mheaders\u001b[0m \u001b[0;34m=\u001b[0m \u001b[0;34m[\u001b[0m\u001b[0;34m]\u001b[0m\u001b[0;34m\u001b[0m\u001b[0;34m\u001b[0m\u001b[0m\n",
      "\u001b[0;31mLoadMonitorResultsError\u001b[0m: no monitor files of the form *monitor.csv found in m"
     ]
    }
   ],
   "source": [
    "from stable_baselines import results_plotter\n",
    "%matplotlib inline\n",
    "results_plotter.plot_results(\"models/deepq_v1\", 10e6, results_plotter.X_TIMESTEPS, \"Breakout\")"
   ]
  },
  {
   "cell_type": "markdown",
   "metadata": {},
   "source": [
    "### Proximal Policy Optimization"
   ]
  },
  {
   "cell_type": "markdown",
   "metadata": {},
   "source": [
    "## Conclusions"
   ]
  },
  {
   "cell_type": "markdown",
   "metadata": {},
   "source": [
    "## References\n",
    "\n",
    "#### Eximo Rules\n",
    " * [Eximo](https://boardgamegeek.com/boardgame/137916/eximo)\n",
    "\n",
    "#### Packages\n",
    " * [Stable Baselines Documentation](https://stable-baselines.readthedocs.io/en/master/) \n",
    " * [OpenAI Gym Documentation](https://gym.openai.com/docs/)\n",
    " * [NumPy Documentation](https://numpy.org/doc/1.18/)\n",
    " \n",
    "#### OpenAI Gym Implementations\n",
    " * [Backgammon Implementation](https://github.com/dellalibera/gym-backgammon)\n",
    " * [Checkers Implementation](https://github.com/daphne12345/openai-checkers-gym)\n",
    " * [Chess Implementation](https://github.com/genyrosk/gym-chess)\n",
    "\n",
    "\n"
   ]
  }
 ],
 "metadata": {
  "kernelspec": {
   "display_name": "Python 3",
   "language": "python",
   "name": "python3"
  },
  "language_info": {
   "codemirror_mode": {
    "name": "ipython",
    "version": 3
   },
   "file_extension": ".py",
   "mimetype": "text/x-python",
   "name": "python",
   "nbconvert_exporter": "python",
   "pygments_lexer": "ipython3",
   "version": "3.7.6"
  }
 },
 "nbformat": 4,
 "nbformat_minor": 2
}
